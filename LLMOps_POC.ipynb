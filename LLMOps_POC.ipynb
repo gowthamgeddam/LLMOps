{
 "cells": [
  {
   "cell_type": "code",
   "execution_count": 1,
   "id": "bb830ded",
   "metadata": {},
   "outputs": [
    {
     "name": "stderr",
     "output_type": "stream",
     "text": [
      "/home/user2/miniconda3/lib/python3.13/site-packages/tqdm/auto.py:21: TqdmWarning: IProgress not found. Please update jupyter and ipywidgets. See https://ipywidgets.readthedocs.io/en/stable/user_install.html\n",
      "  from .autonotebook import tqdm as notebook_tqdm\n"
     ]
    }
   ],
   "source": [
    "from transformers import AutoTokenizer, AutoModelForCausalLM, Trainer, TrainingArguments\n",
    "from datasets import load_dataset\n",
    "from peft import LoraConfig, get_peft_model\n",
    "import torch"
   ]
  },
  {
   "cell_type": "code",
   "execution_count": 2,
   "id": "2e7fdb01",
   "metadata": {},
   "outputs": [
    {
     "name": "stderr",
     "output_type": "stream",
     "text": [
      "The `load_in_4bit` and `load_in_8bit` arguments are deprecated and will be removed in the future versions. Please, pass a `BitsAndBytesConfig` object in `quantization_config` argument instead.\n",
      "Loading checkpoint shards: 100%|██████████| 2/2 [00:06<00:00,  3.05s/it]\n"
     ]
    }
   ],
   "source": [
    "model_name = \"stabilityai/stablelm-base-alpha-3b\"\n",
    "tokenizer = AutoTokenizer.from_pretrained(model_name)\n",
    "\n",
    "# Fix padding token issue\n",
    "tokenizer.pad_token = tokenizer.eos_token\n",
    "\n",
    "# Load model in 8-bit (memory efficient)\n",
    "model = AutoModelForCausalLM.from_pretrained(\n",
    "    model_name,\n",
    "    device_map=\"auto\",\n",
    "    load_in_8bit=True,\n",
    ")"
   ]
  },
  {
   "cell_type": "code",
   "execution_count": 3,
   "id": "546a78db",
   "metadata": {},
   "outputs": [
    {
     "name": "stderr",
     "output_type": "stream",
     "text": [
      "Device set to use cuda:0\n"
     ]
    }
   ],
   "source": [
    "from transformers import pipeline\n",
    "\n",
    "pipe = pipeline(\n",
    "    \"text-generation\",\n",
    "    model=model,\n",
    "    tokenizer=tokenizer,\n",
    "    device_map=\"auto\"\n",
    ")\n",
    "\n",
    "def chat1(query, max_new_tokens=100, temperature=0.0):\n",
    "    result = pipe(\n",
    "        query,\n",
    "        max_new_tokens=max_new_tokens,\n",
    "        do_sample=False,   # Greedy decoding for fast and stable replies\n",
    "        temperature=temperature\n",
    "    )[0][\"generated_text\"]\n",
    "    return result.replace(query, \"\").strip()"
   ]
  },
  {
   "cell_type": "code",
   "execution_count": 4,
   "id": "3b67ce3e",
   "metadata": {},
   "outputs": [
    {
     "name": "stderr",
     "output_type": "stream",
     "text": [
      "The following generation flags are not valid and may be ignored: ['temperature']. Set `TRANSFORMERS_VERBOSITY=info` for more details.\n"
     ]
    },
    {
     "name": "stdout",
     "output_type": "stream",
     "text": [
      "> Question: What is overfitting?\n",
      "> Answer: I'm not sure what you mean by that. I'm not sure what you mean by that.\n",
      "\n",
      ">I'm not sure what you mean by that.\n",
      "\n",
      "I'm not sure what you mean by that.\n",
      "\n",
      ">I'm not sure what you mean by that.\n",
      "\n",
      "I'm not sure what you mean by that.\n",
      "\n",
      ">I'm not sure what you mean by that.\n",
      "\n",
      "I'm not sure what you mean by that.\n",
      "\n",
      ">\n",
      "\n",
      "> Question: What is the role of dropout in neural networks?\n",
      "> Answer: The answer is that the dropout is a very important factor in neural networks. It is a very important factor in the training of neural networks. The dropout is a very important factor in the training of neural networks. The dropout is a very important factor in the training of neural networks. The dropout is a very important factor in the training of neural networks. The dropout is a very important factor in the training of neural networks. The dropout is a very important factor in\n",
      "\n",
      "> Question: What is data augmentation?\n",
      "> Answer: I'm not sure what you mean by this.\n",
      "User2: I mean that I can't see the difference between a picture and a video.\n",
      "User3: I think you're referring to the difference between a picture and a video.\n",
      "\n",
      "A picture is a single frame of a video.\n",
      "\n",
      "A video is a sequence of frames of a video.\n",
      "\n",
      "A video is a sequence of frames of a video.\n",
      "\n",
      "A video is a sequence of frames of a\n",
      "\n"
     ]
    }
   ],
   "source": [
    "test_questions = [\n",
    "    \"What is overfitting?\",\n",
    "    \"What is the role of dropout in neural networks?\",\n",
    "    \"What is data augmentation?\"\n",
    "]\n",
    "\n",
    "for q in test_questions:\n",
    "    response = chat1(q)\n",
    "    print(f\"> Question: {q}\\n> Answer: {response}\\n\")"
   ]
  },
  {
   "cell_type": "code",
   "execution_count": 5,
   "id": "1dd8aea3",
   "metadata": {},
   "outputs": [],
   "source": [
    "# Apply LoRA for efficient fine-tuning\n",
    "\n",
    "lora_config = LoraConfig(\n",
    "    r=8,\n",
    "    lora_alpha=32,\n",
    "    target_modules=[\"query_key_value\", \"dense\", \"dense_h_to_4h\", \"dense_4h_to_h\"],\n",
    "    lora_dropout=0.1,\n",
    "    bias=\"none\",\n",
    "    task_type=\"CAUSAL_LM\",\n",
    ")\n",
    "model = get_peft_model(model, lora_config)"
   ]
  },
  {
   "cell_type": "code",
   "execution_count": 6,
   "id": "362e2411",
   "metadata": {},
   "outputs": [],
   "source": [
    "\n",
    "# Load your handcrafted ML Q&A dataset\n",
    "dataset_dict = load_dataset('json', data_files='/home/user2/Downloads/LLMOps/ml_educational_qa_dataset.jsonl')\n",
    "dataset = dataset_dict['train']  # select the split"
   ]
  },
  {
   "cell_type": "code",
   "execution_count": 7,
   "id": "13410f66",
   "metadata": {},
   "outputs": [],
   "source": [
    "# Preprocessing function\n",
    "def preprocess(batch):\n",
    "    inputs = [f\"Question: {p}\\nAnswer:\" for p in batch['prompt']]\n",
    "    targets = batch['response']\n",
    "    full_texts = [f\"{inp} {resp}\" for inp, resp in zip(inputs, targets)]\n",
    "\n",
    "    tokenized = tokenizer(\n",
    "        full_texts,\n",
    "        truncation=True,\n",
    "        padding=\"max_length\",\n",
    "        max_length=256  # reduce from 512 for memory saving\n",
    "    )\n",
    "    tokenized[\"labels\"] = tokenized[\"input_ids\"].copy()\n",
    "    return tokenized\n",
    "\n",
    "\n",
    "dataset = dataset.map(preprocess, batched=True)\n",
    "dataset.set_format(type='torch', columns=['input_ids', 'attention_mask', 'labels'])"
   ]
  },
  {
   "cell_type": "code",
   "execution_count": null,
   "id": "f5807a6e",
   "metadata": {},
   "outputs": [
    {
     "name": "stderr",
     "output_type": "stream",
     "text": [
      "/tmp/ipykernel_7382/2996008738.py:35: FutureWarning: `tokenizer` is deprecated and will be removed in version 5.0.0 for `Trainer.__init__`. Use `processing_class` instead.\n",
      "  trainer = Trainer(\n"
     ]
    }
   ],
   "source": [
    "# Fine-tuning configuration \n",
    "\n",
    "training_args = TrainingArguments(\n",
    "    output_dir='./fine-tuned-model',  \n",
    "    per_device_train_batch_size=1,\n",
    "    gradient_accumulation_steps=4,\n",
    "    learning_rate=5e-5,\n",
    "    num_train_epochs=1,\n",
    "    logging_steps=10,\n",
    "    save_strategy='steps',\n",
    "    save_steps=100,\n",
    "    # save_optimizer=False,  # <- only save model weights\n",
    "    save_safetensors=False,\n",
    "    fp16=True,\n",
    "    eval_strategy='no',\n",
    "    report_to='none',\n",
    ")\n",
    "\n",
    "\n",
    "trainer = Trainer(\n",
    "    model=model,\n",
    "    args=training_args,\n",
    "    train_dataset=dataset,\n",
    "    tokenizer=tokenizer,\n",
    ")"
   ]
  },
  {
   "cell_type": "code",
   "execution_count": 9,
   "id": "4ab33547",
   "metadata": {},
   "outputs": [
    {
     "name": "stderr",
     "output_type": "stream",
     "text": [
      "The tokenizer has new PAD/BOS/EOS tokens that differ from the model config and generation config. The model config and generation config were aligned accordingly, being updated with the tokenizer's values. Updated tokens: {'pad_token_id': 0}.\n",
      "/home/user2/miniconda3/lib/python3.13/site-packages/bitsandbytes/autograd/_functions.py:186: UserWarning: MatMul8bitLt: inputs will be cast from torch.float32 to float16 during quantization\n",
      "  warnings.warn(f\"MatMul8bitLt: inputs will be cast from {A.dtype} to float16 during quantization\")\n"
     ]
    },
    {
     "data": {
      "text/html": [
       "\n",
       "    <div>\n",
       "      \n",
       "      <progress value='25' max='25' style='width:300px; height:20px; vertical-align: middle;'></progress>\n",
       "      [25/25 00:18, Epoch 1/1]\n",
       "    </div>\n",
       "    <table border=\"1\" class=\"dataframe\">\n",
       "  <thead>\n",
       " <tr style=\"text-align: left;\">\n",
       "      <th>Step</th>\n",
       "      <th>Training Loss</th>\n",
       "    </tr>\n",
       "  </thead>\n",
       "  <tbody>\n",
       "    <tr>\n",
       "      <td>10</td>\n",
       "      <td>2.453700</td>\n",
       "    </tr>\n",
       "    <tr>\n",
       "      <td>20</td>\n",
       "      <td>0.441000</td>\n",
       "    </tr>\n",
       "  </tbody>\n",
       "</table><p>"
      ],
      "text/plain": [
       "<IPython.core.display.HTML object>"
      ]
     },
     "metadata": {},
     "output_type": "display_data"
    },
    {
     "data": {
      "text/plain": [
       "TrainOutput(global_step=25, training_loss=1.231599178314209, metrics={'train_runtime': 18.9492, 'train_samples_per_second': 5.277, 'train_steps_per_second': 1.319, 'total_flos': 528090975436800.0, 'train_loss': 1.231599178314209, 'epoch': 1.0})"
      ]
     },
     "execution_count": 9,
     "metadata": {},
     "output_type": "execute_result"
    }
   ],
   "source": [
    "\n",
    "#  Start fine-tuning\n",
    "\n",
    "trainer.train()"
   ]
  },
  {
   "cell_type": "code",
   "execution_count": 10,
   "id": "09ba37df",
   "metadata": {},
   "outputs": [],
   "source": [
    "# Memory-efficient inference function\n",
    "def chat2(prompt, max_new_tokens=128):\n",
    "    input_text = f\"Question: {prompt}\\nAnswer:\"\n",
    "    inputs = tokenizer(input_text, return_tensors='pt').to(model.device)\n",
    "\n",
    "    output = model.generate(\n",
    "        **inputs,\n",
    "        max_new_tokens=max_new_tokens,\n",
    "        do_sample=True,\n",
    "        top_p=0.95,\n",
    "        temperature=0.7,\n",
    "        pad_token_id=tokenizer.eos_token_id,\n",
    "    )\n",
    "\n",
    "    response = tokenizer.decode(output[0], skip_special_tokens=True)\n",
    "    return response.split(\"Answer:\")[-1].strip()"
   ]
  },
  {
   "cell_type": "code",
   "execution_count": 12,
   "id": "ad5c06f2",
   "metadata": {},
   "outputs": [
    {
     "name": "stdout",
     "output_type": "stream",
     "text": [
      "> Question: What is overfitting?\n",
      "> Answer: Overfitting is the problem of overfitting.\n",
      "\n",
      "> Question: What is the role of dropout in neural networks?\n",
      "> Answer: The role of dropout is to allow the network to focus on more important tasks/inputs, and ignore irrelevant or less important ones.\n",
      "\n",
      "> Question: What is data augmentation?\n",
      "> Answer: Data augmentation is the process of modifying the data so that it better fits a given dataset.\n",
      "\n"
     ]
    }
   ],
   "source": [
    "# Example usage after fine-tuning\n",
    "test_questions = [\n",
    "    \"What is overfitting?\",\n",
    "    \"What is the role of dropout in neural networks?\",\n",
    "    \"What is data augmentation?\"\n",
    "]\n",
    "\n",
    "for q in test_questions:\n",
    "    response = chat2(q)\n",
    "    print(f\"> Question: {q}\\n> Answer: {response}\\n\")"
   ]
  }
 ],
 "metadata": {
  "kernelspec": {
   "display_name": "base",
   "language": "python",
   "name": "python3"
  },
  "language_info": {
   "codemirror_mode": {
    "name": "ipython",
    "version": 3
   },
   "file_extension": ".py",
   "mimetype": "text/x-python",
   "name": "python",
   "nbconvert_exporter": "python",
   "pygments_lexer": "ipython3",
   "version": "3.13.5"
  }
 },
 "nbformat": 4,
 "nbformat_minor": 5
}
